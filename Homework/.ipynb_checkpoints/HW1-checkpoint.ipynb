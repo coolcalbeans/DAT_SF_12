{
 "metadata": {
  "name": "",
  "signature": "sha256:fe5a9a139bf97c6ac556e17417adc84c421a14247943c396d9e992354ef89e8d"
 },
 "nbformat": 3,
 "nbformat_minor": 0,
 "worksheets": [
  {
   "cells": [
    {
     "cell_type": "markdown",
     "metadata": {},
     "source": [
      "#HW 1 \n",
      "\n",
      "##In this homework, you will be using concepts from the SQL lecture and APIs to explroe a dataset and make some basic queries. "
     ]
    },
    {
     "cell_type": "code",
     "collapsed": false,
     "input": [
      "# Import Pandas, Numpy, Matplotlib, and Sqlite3\n",
      "import pandas as pd\n",
      "import numpy as np\n",
      "import matplotlib.pyplot as plt\n",
      "import sqlite3\n",
      "\n",
      "# This enables inline Plots\n",
      "%matplotlib inline\n",
      "\n",
      "# Limit rows displayed in notebook\n",
      "pd.set_option('display.max_rows', 10)\n",
      "pd.set_option('display.precision', 2)"
     ],
     "language": "python",
     "metadata": {},
     "outputs": [],
     "prompt_number": 271
    },
    {
     "cell_type": "markdown",
     "metadata": {},
     "source": [
      "#### 1. Connect to the SF.Gov API and pull data from the 311 Table\n",
      "https://data.sfgov.org/City-Infrastructure/Case-Data-from-San-Francisco-311-SF311-/vw6y-z8j6\n",
      "\n",
      "* 311 data contains over 1.1 Million rows in total. For this exercise, we are only looking to pull the FIRST 1000 rows\n",
      "\n",
      "Note: To get more data than 1000 rows, you may need to sign up for an app token to avoid throttling limits\n",
      "http://dev.socrata.com/foundry/#/data.sfgov.org/vw6y-z8j6\n",
      "\n",
      "We don't need this for the exercise, but something to keep in mind as you work with external APIs"
     ]
    },
    {
     "cell_type": "code",
     "collapsed": false,
     "input": [
      "# This will get you the first 1000 rows to get started with the rest of the questions\n",
      "import json\n",
      "import urllib\n",
      "\n",
      "url = \"https://data.sfgov.org/resource/vw6y-z8j6.json\"\n",
      "data = json.load(urllib.urlopen(url))"
     ],
     "language": "python",
     "metadata": {},
     "outputs": [],
     "prompt_number": 272
    },
    {
     "cell_type": "code",
     "collapsed": false,
     "input": [
      "for i in range(len(data)):\n",
      "    if bool(data[i]):\n",
      "        print data[i]\n",
      "        break"
     ],
     "language": "python",
     "metadata": {},
     "outputs": [
      {
       "output_type": "stream",
       "stream": "stdout",
       "text": [
        "{u'category': u'Damaged Property', u'status': u'Open', u'updated': u'2015-01-24T23:49:51', u'neighborhood': u'Excelsior', u'opened': u'2015-01-24T23:02:30', u'point': {u'latitude': u'37.7311684957279', u'needs_recoding': False, u'longitude': u'-122.426161763831'}, u'responsible_agency': u'DPT - Traffic Signal - G', u'address': u'Intersection of ALEMANY BLVD and CONGDON ST', u'supervisor_district': u'11', u'source': u'Voice In', u'request_type': u'Damaged Traffic_Signal', u'case_id': u'4425860', u'request_details': u'Traffic_Signal'}\n"
       ]
      }
     ],
     "prompt_number": 273
    },
    {
     "cell_type": "markdown",
     "metadata": {},
     "source": [
      "#### 2. How many elements are there in the JSON file? "
     ]
    },
    {
     "cell_type": "code",
     "collapsed": false,
     "input": [
      "count = 0\n",
      "for i in range(len(data)):\n",
      "    if bool(data[i]):\n",
      "        count += 1\n",
      "print count"
     ],
     "language": "python",
     "metadata": {},
     "outputs": [
      {
       "output_type": "stream",
       "stream": "stdout",
       "text": [
        "746\n"
       ]
      }
     ],
     "prompt_number": 274
    },
    {
     "cell_type": "markdown",
     "metadata": {},
     "source": [
      "#### Display the length of the JSON object and display the elements contained in one of the items of the JSON file? "
     ]
    },
    {
     "cell_type": "code",
     "collapsed": false,
     "input": [
      "print(\"Length of JSON File: %d\" %len(data))\n",
      "print(\"---- Printing Key, Value Pairs ----\")\n",
      "for key, value in data[254].items():\n",
      "    print key\n",
      "    print value"
     ],
     "language": "python",
     "metadata": {},
     "outputs": [
      {
       "output_type": "stream",
       "stream": "stdout",
       "text": [
        "Length of JSON File: 1000\n",
        "---- Printing Key, Value Pairs ----\n",
        "category\n",
        "Damaged Property\n",
        "status\n",
        "Open\n",
        "updated\n",
        "2015-01-24T23:49:51\n",
        "neighborhood\n",
        "Excelsior\n",
        "opened\n",
        "2015-01-24T23:02:30\n",
        "point\n",
        "{u'latitude': u'37.7311684957279', u'needs_recoding': False, u'longitude': u'-122.426161763831'}\n",
        "responsible_agency\n",
        "DPT - Traffic Signal - G\n",
        "address\n",
        "Intersection of ALEMANY BLVD and CONGDON ST\n",
        "supervisor_district\n",
        "11\n",
        "source\n",
        "Voice In\n",
        "request_type\n",
        "Damaged Traffic_Signal\n",
        "case_id\n",
        "4425860\n",
        "request_details\n",
        "Traffic_Signal\n"
       ]
      }
     ],
     "prompt_number": 275
    },
    {
     "cell_type": "markdown",
     "metadata": {},
     "source": [
      "####3. Use Pandas \"Read JSON\" functionality to turn the 311 data into a Pandas Dataframe and display the first 20 rows\n"
     ]
    },
    {
     "cell_type": "code",
     "collapsed": false,
     "input": [
      "df_json = pd.read_json(url)\n",
      "df_json.head(20)"
     ],
     "language": "python",
     "metadata": {},
     "outputs": [
      {
       "html": [
        "<div style=\"max-height:1000px;max-width:1500px;overflow:auto;\">\n",
        "<table border=\"1\" class=\"dataframe\">\n",
        "  <thead>\n",
        "    <tr style=\"text-align: right;\">\n",
        "      <th></th>\n",
        "      <th>address</th>\n",
        "      <th>case_id</th>\n",
        "      <th>category</th>\n",
        "      <th>closed</th>\n",
        "      <th>media_url</th>\n",
        "      <th>neighborhood</th>\n",
        "      <th>opened</th>\n",
        "      <th>point</th>\n",
        "      <th>request_details</th>\n",
        "      <th>request_type</th>\n",
        "      <th>responsible_agency</th>\n",
        "      <th>source</th>\n",
        "      <th>status</th>\n",
        "      <th>supervisor_district</th>\n",
        "      <th>updated</th>\n",
        "    </tr>\n",
        "  </thead>\n",
        "  <tbody>\n",
        "    <tr>\n",
        "      <th>0 </th>\n",
        "      <td> NaN</td>\n",
        "      <td>NaN</td>\n",
        "      <td> NaN</td>\n",
        "      <td> NaN</td>\n",
        "      <td> NaN</td>\n",
        "      <td> NaN</td>\n",
        "      <td> NaN</td>\n",
        "      <td> NaN</td>\n",
        "      <td> NaN</td>\n",
        "      <td> NaN</td>\n",
        "      <td> NaN</td>\n",
        "      <td> NaN</td>\n",
        "      <td> NaN</td>\n",
        "      <td>NaN</td>\n",
        "      <td> NaN</td>\n",
        "    </tr>\n",
        "    <tr>\n",
        "      <th>1 </th>\n",
        "      <td> NaN</td>\n",
        "      <td>NaN</td>\n",
        "      <td> NaN</td>\n",
        "      <td> NaN</td>\n",
        "      <td> NaN</td>\n",
        "      <td> NaN</td>\n",
        "      <td> NaN</td>\n",
        "      <td> NaN</td>\n",
        "      <td> NaN</td>\n",
        "      <td> NaN</td>\n",
        "      <td> NaN</td>\n",
        "      <td> NaN</td>\n",
        "      <td> NaN</td>\n",
        "      <td>NaN</td>\n",
        "      <td> NaN</td>\n",
        "    </tr>\n",
        "    <tr>\n",
        "      <th>2 </th>\n",
        "      <td> NaN</td>\n",
        "      <td>NaN</td>\n",
        "      <td> NaN</td>\n",
        "      <td> NaN</td>\n",
        "      <td> NaN</td>\n",
        "      <td> NaN</td>\n",
        "      <td> NaN</td>\n",
        "      <td> NaN</td>\n",
        "      <td> NaN</td>\n",
        "      <td> NaN</td>\n",
        "      <td> NaN</td>\n",
        "      <td> NaN</td>\n",
        "      <td> NaN</td>\n",
        "      <td>NaN</td>\n",
        "      <td> NaN</td>\n",
        "    </tr>\n",
        "    <tr>\n",
        "      <th>3 </th>\n",
        "      <td> NaN</td>\n",
        "      <td>NaN</td>\n",
        "      <td> NaN</td>\n",
        "      <td> NaN</td>\n",
        "      <td> NaN</td>\n",
        "      <td> NaN</td>\n",
        "      <td> NaN</td>\n",
        "      <td> NaN</td>\n",
        "      <td> NaN</td>\n",
        "      <td> NaN</td>\n",
        "      <td> NaN</td>\n",
        "      <td> NaN</td>\n",
        "      <td> NaN</td>\n",
        "      <td>NaN</td>\n",
        "      <td> NaN</td>\n",
        "    </tr>\n",
        "    <tr>\n",
        "      <th>4 </th>\n",
        "      <td> NaN</td>\n",
        "      <td>NaN</td>\n",
        "      <td> NaN</td>\n",
        "      <td> NaN</td>\n",
        "      <td> NaN</td>\n",
        "      <td> NaN</td>\n",
        "      <td> NaN</td>\n",
        "      <td> NaN</td>\n",
        "      <td> NaN</td>\n",
        "      <td> NaN</td>\n",
        "      <td> NaN</td>\n",
        "      <td> NaN</td>\n",
        "      <td> NaN</td>\n",
        "      <td>NaN</td>\n",
        "      <td> NaN</td>\n",
        "    </tr>\n",
        "    <tr>\n",
        "      <th>...</th>\n",
        "      <td>...</td>\n",
        "      <td>...</td>\n",
        "      <td>...</td>\n",
        "      <td>...</td>\n",
        "      <td>...</td>\n",
        "      <td>...</td>\n",
        "      <td>...</td>\n",
        "      <td>...</td>\n",
        "      <td>...</td>\n",
        "      <td>...</td>\n",
        "      <td>...</td>\n",
        "      <td>...</td>\n",
        "      <td>...</td>\n",
        "      <td>...</td>\n",
        "      <td>...</td>\n",
        "    </tr>\n",
        "    <tr>\n",
        "      <th>15</th>\n",
        "      <td> NaN</td>\n",
        "      <td>NaN</td>\n",
        "      <td> NaN</td>\n",
        "      <td> NaN</td>\n",
        "      <td> NaN</td>\n",
        "      <td> NaN</td>\n",
        "      <td> NaN</td>\n",
        "      <td> NaN</td>\n",
        "      <td> NaN</td>\n",
        "      <td> NaN</td>\n",
        "      <td> NaN</td>\n",
        "      <td> NaN</td>\n",
        "      <td> NaN</td>\n",
        "      <td>NaN</td>\n",
        "      <td> NaN</td>\n",
        "    </tr>\n",
        "    <tr>\n",
        "      <th>16</th>\n",
        "      <td> NaN</td>\n",
        "      <td>NaN</td>\n",
        "      <td> NaN</td>\n",
        "      <td> NaN</td>\n",
        "      <td> NaN</td>\n",
        "      <td> NaN</td>\n",
        "      <td> NaN</td>\n",
        "      <td> NaN</td>\n",
        "      <td> NaN</td>\n",
        "      <td> NaN</td>\n",
        "      <td> NaN</td>\n",
        "      <td> NaN</td>\n",
        "      <td> NaN</td>\n",
        "      <td>NaN</td>\n",
        "      <td> NaN</td>\n",
        "    </tr>\n",
        "    <tr>\n",
        "      <th>17</th>\n",
        "      <td> NaN</td>\n",
        "      <td>NaN</td>\n",
        "      <td> NaN</td>\n",
        "      <td> NaN</td>\n",
        "      <td> NaN</td>\n",
        "      <td> NaN</td>\n",
        "      <td> NaN</td>\n",
        "      <td> NaN</td>\n",
        "      <td> NaN</td>\n",
        "      <td> NaN</td>\n",
        "      <td> NaN</td>\n",
        "      <td> NaN</td>\n",
        "      <td> NaN</td>\n",
        "      <td>NaN</td>\n",
        "      <td> NaN</td>\n",
        "    </tr>\n",
        "    <tr>\n",
        "      <th>18</th>\n",
        "      <td> NaN</td>\n",
        "      <td>NaN</td>\n",
        "      <td> NaN</td>\n",
        "      <td> NaN</td>\n",
        "      <td> NaN</td>\n",
        "      <td> NaN</td>\n",
        "      <td> NaN</td>\n",
        "      <td> NaN</td>\n",
        "      <td> NaN</td>\n",
        "      <td> NaN</td>\n",
        "      <td> NaN</td>\n",
        "      <td> NaN</td>\n",
        "      <td> NaN</td>\n",
        "      <td>NaN</td>\n",
        "      <td> NaN</td>\n",
        "    </tr>\n",
        "    <tr>\n",
        "      <th>19</th>\n",
        "      <td> NaN</td>\n",
        "      <td>NaN</td>\n",
        "      <td> NaN</td>\n",
        "      <td> NaN</td>\n",
        "      <td> NaN</td>\n",
        "      <td> NaN</td>\n",
        "      <td> NaN</td>\n",
        "      <td> NaN</td>\n",
        "      <td> NaN</td>\n",
        "      <td> NaN</td>\n",
        "      <td> NaN</td>\n",
        "      <td> NaN</td>\n",
        "      <td> NaN</td>\n",
        "      <td>NaN</td>\n",
        "      <td> NaN</td>\n",
        "    </tr>\n",
        "  </tbody>\n",
        "</table>\n",
        "<p>20 rows \u00d7 15 columns</p>\n",
        "</div>"
       ],
       "metadata": {},
       "output_type": "pyout",
       "prompt_number": 276,
       "text": [
        "   address  case_id category closed media_url neighborhood opened point  \\\n",
        "0      NaN      NaN      NaN    NaN       NaN          NaN    NaN   NaN   \n",
        "1      NaN      NaN      NaN    NaN       NaN          NaN    NaN   NaN   \n",
        "2      NaN      NaN      NaN    NaN       NaN          NaN    NaN   NaN   \n",
        "3      NaN      NaN      NaN    NaN       NaN          NaN    NaN   NaN   \n",
        "4      NaN      NaN      NaN    NaN       NaN          NaN    NaN   NaN   \n",
        "..     ...      ...      ...    ...       ...          ...    ...   ...   \n",
        "15     NaN      NaN      NaN    NaN       NaN          NaN    NaN   NaN   \n",
        "16     NaN      NaN      NaN    NaN       NaN          NaN    NaN   NaN   \n",
        "17     NaN      NaN      NaN    NaN       NaN          NaN    NaN   NaN   \n",
        "18     NaN      NaN      NaN    NaN       NaN          NaN    NaN   NaN   \n",
        "19     NaN      NaN      NaN    NaN       NaN          NaN    NaN   NaN   \n",
        "\n",
        "   request_details request_type responsible_agency source status  \\\n",
        "0              NaN          NaN                NaN    NaN    NaN   \n",
        "1              NaN          NaN                NaN    NaN    NaN   \n",
        "2              NaN          NaN                NaN    NaN    NaN   \n",
        "3              NaN          NaN                NaN    NaN    NaN   \n",
        "4              NaN          NaN                NaN    NaN    NaN   \n",
        "..             ...          ...                ...    ...    ...   \n",
        "15             NaN          NaN                NaN    NaN    NaN   \n",
        "16             NaN          NaN                NaN    NaN    NaN   \n",
        "17             NaN          NaN                NaN    NaN    NaN   \n",
        "18             NaN          NaN                NaN    NaN    NaN   \n",
        "19             NaN          NaN                NaN    NaN    NaN   \n",
        "\n",
        "    supervisor_district updated  \n",
        "0                   NaN     NaN  \n",
        "1                   NaN     NaN  \n",
        "2                   NaN     NaN  \n",
        "3                   NaN     NaN  \n",
        "4                   NaN     NaN  \n",
        "..                  ...     ...  \n",
        "15                  NaN     NaN  \n",
        "16                  NaN     NaN  \n",
        "17                  NaN     NaN  \n",
        "18                  NaN     NaN  \n",
        "19                  NaN     NaN  \n",
        "\n",
        "[20 rows x 15 columns]"
       ]
      }
     ],
     "prompt_number": 276
    },
    {
     "cell_type": "markdown",
     "metadata": {},
     "source": [
      "####4. How many missing values do we have? "
     ]
    },
    {
     "cell_type": "code",
     "collapsed": false,
     "input": [
      "df_json.isnull().sum()"
     ],
     "language": "python",
     "metadata": {},
     "outputs": [
      {
       "metadata": {},
       "output_type": "pyout",
       "prompt_number": 277,
       "text": [
        "address     254\n",
        "case_id     254\n",
        "category    254\n",
        "...\n",
        "status                 254\n",
        "supervisor_district    254\n",
        "updated                254\n",
        "Length: 15, dtype: int64"
       ]
      }
     ],
     "prompt_number": 277
    },
    {
     "cell_type": "markdown",
     "metadata": {},
     "source": [
      "####5. Drop the \"point\" feature from the dataframe - its a dictionary, which is unsupported in a flat database"
     ]
    },
    {
     "cell_type": "code",
     "collapsed": false,
     "input": [
      "df_json.drop(['point'], axis=1, inplace=True)"
     ],
     "language": "python",
     "metadata": {},
     "outputs": [],
     "prompt_number": 278
    },
    {
     "cell_type": "markdown",
     "metadata": {},
     "source": [
      "####5. Turn the 311 data into a database. You can use the pandas read_sql command (example [here)]('http://bit.ly/1EoP81v') or the db package from yHat to do this. "
     ]
    },
    {
     "cell_type": "markdown",
     "metadata": {},
     "source": [
      "con = sqlite3.connect(\"../data/db/test.db\")"
     ]
    },
    {
     "cell_type": "code",
     "collapsed": false,
     "input": [
      "%load_ext sql"
     ],
     "language": "python",
     "metadata": {},
     "outputs": [
      {
       "output_type": "stream",
       "stream": "stdout",
       "text": [
        "The sql extension is already loaded. To reload it, use:\n",
        "  %reload_ext sql\n"
       ]
      }
     ],
     "prompt_number": 279
    },
    {
     "cell_type": "code",
     "collapsed": false,
     "input": [
      "%%bash\n",
      "pwd\n",
      "sqlite3 ../data/db/test.db .tables"
     ],
     "language": "python",
     "metadata": {},
     "outputs": [
      {
       "output_type": "stream",
       "stream": "stdout",
       "text": [
        "/Users/Viju/GitHub/DAT_SF_12/Homework\n",
        "sfdata\n"
       ]
      }
     ],
     "prompt_number": 280
    },
    {
     "cell_type": "code",
     "collapsed": false,
     "input": [
      "df_json.dropna(axis=0, how='all', inplace=True)\n",
      "df_json.drop(['media_url'], axis=1, inplace=True)"
     ],
     "language": "python",
     "metadata": {},
     "outputs": [],
     "prompt_number": 281
    },
    {
     "cell_type": "code",
     "collapsed": false,
     "input": [
      "con.execute(\"DROP TABLE IF EXISTS sfdata\")\n",
      "pd.io.sql.write_frame(df_json, \"sfdata\", con)"
     ],
     "language": "python",
     "metadata": {},
     "outputs": [],
     "prompt_number": 282
    },
    {
     "cell_type": "heading",
     "level": 6,
     "metadata": {},
     "source": [
      "6. Display the first 5 rows of the DB"
     ]
    },
    {
     "cell_type": "code",
     "collapsed": false,
     "input": [
      "%%sql sqlite:///../data/db/test.db\n",
      "SELECT * FROM sfdata LIMIT 5;"
     ],
     "language": "python",
     "metadata": {},
     "outputs": [
      {
       "output_type": "stream",
       "stream": "stdout",
       "text": [
        "Done.\n"
       ]
      },
      {
       "html": [
        "<table>\n",
        "    <tr>\n",
        "        <th>address</th>\n",
        "        <th>case_id</th>\n",
        "        <th>category</th>\n",
        "        <th>closed</th>\n",
        "        <th>neighborhood</th>\n",
        "        <th>opened</th>\n",
        "        <th>request_details</th>\n",
        "        <th>request_type</th>\n",
        "        <th>responsible_agency</th>\n",
        "        <th>source</th>\n",
        "        <th>status</th>\n",
        "        <th>supervisor_district</th>\n",
        "        <th>updated</th>\n",
        "    </tr>\n",
        "    <tr>\n",
        "        <td>Intersection of ALEMANY BLVD and CONGDON ST</td>\n",
        "        <td>4425860.0</td>\n",
        "        <td>Damaged Property</td>\n",
        "        <td>None</td>\n",
        "        <td>Excelsior</td>\n",
        "        <td>2015-01-24T23:02:30</td>\n",
        "        <td>Traffic_Signal</td>\n",
        "        <td>Damaged Traffic_Signal</td>\n",
        "        <td>DPT - Traffic Signal - G</td>\n",
        "        <td>Voice In</td>\n",
        "        <td>Open</td>\n",
        "        <td>11.0</td>\n",
        "        <td>2015-01-24T23:49:51</td>\n",
        "    </tr>\n",
        "    <tr>\n",
        "        <td>3 BUENA VISTA EAST AVE, SAN FRANCISCO, CA, 94117</td>\n",
        "        <td>4425787.0</td>\n",
        "        <td>Damaged Property</td>\n",
        "        <td>None</td>\n",
        "        <td>Haight Ashbury</td>\n",
        "        <td>2015-01-24T21:50:22</td>\n",
        "        <td>Transit_Shelter_Ad_Kiosk</td>\n",
        "        <td>Damaged Transit_Shelter_Ad_Kiosk</td>\n",
        "        <td>Clear Channel - Transit Queue</td>\n",
        "        <td>Open311</td>\n",
        "        <td>Open</td>\n",
        "        <td>5.0</td>\n",
        "        <td>2015-01-24T21:50:22</td>\n",
        "    </tr>\n",
        "    <tr>\n",
        "        <td>350 ELLIS STREET, , SAN FRANCISCO, CA, 94102</td>\n",
        "        <td>4425779.0</td>\n",
        "        <td>SFHA Requests</td>\n",
        "        <td>None</td>\n",
        "        <td>Downtown/Civic Center</td>\n",
        "        <td>2015-01-24T21:43:54</td>\n",
        "        <td>Plumbers</td>\n",
        "        <td>SFHA Priority - Urgent</td>\n",
        "        <td>311 HA SR Queue</td>\n",
        "        <td>Voice In</td>\n",
        "        <td>Open</td>\n",
        "        <td>6.0</td>\n",
        "        <td>2015-01-24T21:46:14</td>\n",
        "    </tr>\n",
        "    <tr>\n",
        "        <td>1251 TURK ST, Apt 207, SAN FRANCISCO, CA, 94115</td>\n",
        "        <td>4425777.0</td>\n",
        "        <td>SFHA Requests</td>\n",
        "        <td>None</td>\n",
        "        <td>Western Addition</td>\n",
        "        <td>2015-01-24T21:41:38</td>\n",
        "        <td>Carpenters</td>\n",
        "        <td>SFHA Priority - Emergency</td>\n",
        "        <td>311 HA SR Queue</td>\n",
        "        <td>Voice In</td>\n",
        "        <td>Open</td>\n",
        "        <td>5.0</td>\n",
        "        <td>2015-01-24T21:45:55</td>\n",
        "    </tr>\n",
        "    <tr>\n",
        "        <td>416 SUNNYDALE AVE, SAN FRANCISCO, CA, 94134</td>\n",
        "        <td>4425761.0</td>\n",
        "        <td>Abandoned Vehicle</td>\n",
        "        <td>None</td>\n",
        "        <td>Visitacion Valley</td>\n",
        "        <td>2015-01-24T21:30:22</td>\n",
        "        <td>Brown -  -  - NONE</td>\n",
        "        <td>Abandoned Vehicle - Other</td>\n",
        "        <td>DPT Abandoned Vehicles Work Queue</td>\n",
        "        <td>Voice In</td>\n",
        "        <td>Open</td>\n",
        "        <td>10.0</td>\n",
        "        <td>2015-01-24T21:33:10</td>\n",
        "    </tr>\n",
        "</table>"
       ],
       "metadata": {},
       "output_type": "pyout",
       "prompt_number": 283,
       "text": [
        "[(u'Intersection of ALEMANY BLVD and CONGDON ST', 4425860.0, u'Damaged Property', None, u'Excelsior', u'2015-01-24T23:02:30', u'Traffic_Signal', u'Damaged Traffic_Signal', u'DPT - Traffic Signal - G', u'Voice In', u'Open', 11.0, u'2015-01-24T23:49:51'),\n",
        " (u'3 BUENA VISTA EAST AVE, SAN FRANCISCO, CA, 94117', 4425787.0, u'Damaged Property', None, u'Haight Ashbury', u'2015-01-24T21:50:22', u'Transit_Shelter_Ad_Kiosk', u'Damaged Transit_Shelter_Ad_Kiosk', u'Clear Channel - Transit Queue', u'Open311', u'Open', 5.0, u'2015-01-24T21:50:22'),\n",
        " (u'350 ELLIS STREET, , SAN FRANCISCO, CA, 94102', 4425779.0, u'SFHA Requests', None, u'Downtown/Civic Center', u'2015-01-24T21:43:54', u'Plumbers', u'SFHA Priority - Urgent', u'311 HA SR Queue', u'Voice In', u'Open', 6.0, u'2015-01-24T21:46:14'),\n",
        " (u'1251 TURK ST, Apt 207, SAN FRANCISCO, CA, 94115', 4425777.0, u'SFHA Requests', None, u'Western Addition', u'2015-01-24T21:41:38', u'Carpenters', u'SFHA Priority - Emergency', u'311 HA SR Queue', u'Voice In', u'Open', 5.0, u'2015-01-24T21:45:55'),\n",
        " (u'416 SUNNYDALE AVE, SAN FRANCISCO, CA, 94134', 4425761.0, u'Abandoned Vehicle', None, u'Visitacion Valley', u'2015-01-24T21:30:22', u'Brown -  -  - NONE', u'Abandoned Vehicle - Other', u'DPT Abandoned Vehicles Work Queue', u'Voice In', u'Open', 10.0, u'2015-01-24T21:33:10')]"
       ]
      }
     ],
     "prompt_number": 283
    },
    {
     "cell_type": "markdown",
     "metadata": {},
     "source": [
      "####7. Show 10 of the sidewalk cleanings in the Haight Ashbury neighborhood"
     ]
    },
    {
     "cell_type": "code",
     "collapsed": false,
     "input": [
      "%%sql sqlite:///../data/db/test.db\n",
      "select address, category, neighborhood from sfdata where neighborhood = 'Haight Ashbury' \n",
      "and category like ('%sidewalk%') limit 10;"
     ],
     "language": "python",
     "metadata": {},
     "outputs": [
      {
       "output_type": "stream",
       "stream": "stdout",
       "text": [
        "Done.\n"
       ]
      },
      {
       "html": [
        "<table>\n",
        "    <tr>\n",
        "        <th>address</th>\n",
        "        <th>category</th>\n",
        "        <th>neighborhood</th>\n",
        "    </tr>\n",
        "    <tr>\n",
        "        <td>Intersection of HAIGHT ST and MASONIC AVE</td>\n",
        "        <td>Blocked Street or SideWalk</td>\n",
        "        <td>Haight Ashbury</td>\n",
        "    </tr>\n",
        "    <tr>\n",
        "        <td>1601 PAGE ST, SAN FRANCISCO, CA, 94117</td>\n",
        "        <td>Blocked Street or SideWalk</td>\n",
        "        <td>Haight Ashbury</td>\n",
        "    </tr>\n",
        "    <tr>\n",
        "        <td>229 DOWNEY ST, SAN FRANCISCO, CA, 94117</td>\n",
        "        <td>Sidewalk or Curb</td>\n",
        "        <td>Haight Ashbury</td>\n",
        "    </tr>\n",
        "    <tr>\n",
        "        <td>163 CARL ST, SAN FRANCISCO, CA, 94117</td>\n",
        "        <td>Sidewalk or Curb</td>\n",
        "        <td>Haight Ashbury</td>\n",
        "    </tr>\n",
        "    <tr>\n",
        "        <td>135 CARL ST, SAN FRANCISCO, CA, 94117</td>\n",
        "        <td>Sidewalk or Curb</td>\n",
        "        <td>Haight Ashbury</td>\n",
        "    </tr>\n",
        "    <tr>\n",
        "        <td>943 COLE ST, SAN FRANCISCO, CA, 94117</td>\n",
        "        <td>Sidewalk or Curb</td>\n",
        "        <td>Haight Ashbury</td>\n",
        "    </tr>\n",
        "    <tr>\n",
        "        <td>661 DIVISADERO ST, SAN FRANCISCO, CA, 94117</td>\n",
        "        <td>Street and Sidewalk Cleaning</td>\n",
        "        <td>Haight Ashbury</td>\n",
        "    </tr>\n",
        "    <tr>\n",
        "        <td>2160 FELL ST, SAN FRANCISCO, CA, 94117</td>\n",
        "        <td>Street and Sidewalk Cleaning</td>\n",
        "        <td>Haight Ashbury</td>\n",
        "    </tr>\n",
        "    <tr>\n",
        "        <td>650 COLE ST, SAN FRANCISCO, CA, 94117</td>\n",
        "        <td>Street and Sidewalk Cleaning</td>\n",
        "        <td>Haight Ashbury</td>\n",
        "    </tr>\n",
        "</table>"
       ],
       "metadata": {},
       "output_type": "pyout",
       "prompt_number": 284,
       "text": [
        "[(u'Intersection of HAIGHT ST and MASONIC AVE', u'Blocked Street or SideWalk', u'Haight Ashbury'),\n",
        " (u'1601 PAGE ST, SAN FRANCISCO, CA, 94117', u'Blocked Street or SideWalk', u'Haight Ashbury'),\n",
        " (u'229 DOWNEY ST, SAN FRANCISCO, CA, 94117', u'Sidewalk or Curb', u'Haight Ashbury'),\n",
        " (u'163 CARL ST, SAN FRANCISCO, CA, 94117', u'Sidewalk or Curb', u'Haight Ashbury'),\n",
        " (u'135 CARL ST, SAN FRANCISCO, CA, 94117', u'Sidewalk or Curb', u'Haight Ashbury'),\n",
        " (u'943 COLE ST, SAN FRANCISCO, CA, 94117', u'Sidewalk or Curb', u'Haight Ashbury'),\n",
        " (u'661 DIVISADERO ST, SAN FRANCISCO, CA, 94117', u'Street and Sidewalk Cleaning', u'Haight Ashbury'),\n",
        " (u'2160 FELL ST, SAN FRANCISCO, CA, 94117', u'Street and Sidewalk Cleaning', u'Haight Ashbury'),\n",
        " (u'650 COLE ST, SAN FRANCISCO, CA, 94117', u'Street and Sidewalk Cleaning', u'Haight Ashbury')]"
       ]
      }
     ],
     "prompt_number": 284
    },
    {
     "cell_type": "markdown",
     "metadata": {},
     "source": [
      "####8. Which type of complaint was most common? "
     ]
    },
    {
     "cell_type": "code",
     "collapsed": false,
     "input": [
      "%%sql sqlite:///../data/db/test.db\n",
      "select request_type, count(request_type) from sfdata group by request_type order by count(request_type) DESC Limit 3;"
     ],
     "language": "python",
     "metadata": {},
     "outputs": [
      {
       "output_type": "stream",
       "stream": "stdout",
       "text": [
        "Done.\n"
       ]
      },
      {
       "html": [
        "<table>\n",
        "    <tr>\n",
        "        <th>request_type</th>\n",
        "        <th>count(request_type)</th>\n",
        "    </tr>\n",
        "    <tr>\n",
        "        <td>Offensive Graffiti on Public Property</td>\n",
        "        <td>77</td>\n",
        "    </tr>\n",
        "    <tr>\n",
        "        <td>General Cleaning</td>\n",
        "        <td>76</td>\n",
        "    </tr>\n",
        "    <tr>\n",
        "        <td>Damaged Parking_Meter</td>\n",
        "        <td>58</td>\n",
        "    </tr>\n",
        "</table>"
       ],
       "metadata": {},
       "output_type": "pyout",
       "prompt_number": 285,
       "text": [
        "[(u'Offensive Graffiti on Public Property', 77),\n",
        " (u'General Cleaning', 76),\n",
        " (u'Damaged Parking_Meter', 58)]"
       ]
      }
     ],
     "prompt_number": 285
    },
    {
     "cell_type": "markdown",
     "metadata": {},
     "source": [
      "####9. Are there any neighborhoods where sidewalk cleaning requests aren't the most common? "
     ]
    },
    {
     "cell_type": "code",
     "collapsed": false,
     "input": [
      "%%sql sqlite:///../data/db/test.db\n",
      "select neighborhood, category, count(category) from sfdata \n",
      "where category like ('%cleaning%') \n",
      "group by neighborhood order by count(category) asc;"
     ],
     "language": "python",
     "metadata": {},
     "outputs": [
      {
       "output_type": "stream",
       "stream": "stdout",
       "text": [
        "Done.\n"
       ]
      },
      {
       "html": [
        "<table>\n",
        "    <tr>\n",
        "        <th>neighborhood</th>\n",
        "        <th>category</th>\n",
        "        <th>count(category)</th>\n",
        "    </tr>\n",
        "    <tr>\n",
        "        <td>Crocker Amazon</td>\n",
        "        <td>Street and Sidewalk Cleaning</td>\n",
        "        <td>1</td>\n",
        "    </tr>\n",
        "    <tr>\n",
        "        <td>Inner Richmond</td>\n",
        "        <td>Street and Sidewalk Cleaning</td>\n",
        "        <td>1</td>\n",
        "    </tr>\n",
        "    <tr>\n",
        "        <td>Lakeshore</td>\n",
        "        <td>Street and Sidewalk Cleaning</td>\n",
        "        <td>1</td>\n",
        "    </tr>\n",
        "    <tr>\n",
        "        <td>Outer Richmond</td>\n",
        "        <td>Street and Sidewalk Cleaning</td>\n",
        "        <td>1</td>\n",
        "    </tr>\n",
        "    <tr>\n",
        "        <td>Treasure Island/YBI</td>\n",
        "        <td>Street and Sidewalk Cleaning</td>\n",
        "        <td>1</td>\n",
        "    </tr>\n",
        "    <tr>\n",
        "        <td>Twin Peaks</td>\n",
        "        <td>Street and Sidewalk Cleaning</td>\n",
        "        <td>1</td>\n",
        "    </tr>\n",
        "    <tr>\n",
        "        <td>Visitacion Valley</td>\n",
        "        <td>Street and Sidewalk Cleaning</td>\n",
        "        <td>1</td>\n",
        "    </tr>\n",
        "    <tr>\n",
        "        <td>Marina</td>\n",
        "        <td>Street and Sidewalk Cleaning</td>\n",
        "        <td>2</td>\n",
        "    </tr>\n",
        "    <tr>\n",
        "        <td>Nob Hill</td>\n",
        "        <td>Street and Sidewalk Cleaning</td>\n",
        "        <td>2</td>\n",
        "    </tr>\n",
        "    <tr>\n",
        "        <td>North Beach</td>\n",
        "        <td>Street and Sidewalk Cleaning</td>\n",
        "        <td>2</td>\n",
        "    </tr>\n",
        "    <tr>\n",
        "        <td>Chinatown</td>\n",
        "        <td>Street and Sidewalk Cleaning</td>\n",
        "        <td>3</td>\n",
        "    </tr>\n",
        "    <tr>\n",
        "        <td>Haight Ashbury</td>\n",
        "        <td>Street and Sidewalk Cleaning</td>\n",
        "        <td>3</td>\n",
        "    </tr>\n",
        "    <tr>\n",
        "        <td>Noe Valley</td>\n",
        "        <td>Street and Sidewalk Cleaning</td>\n",
        "        <td>3</td>\n",
        "    </tr>\n",
        "    <tr>\n",
        "        <td>Ocean View</td>\n",
        "        <td>Street and Sidewalk Cleaning</td>\n",
        "        <td>3</td>\n",
        "    </tr>\n",
        "    <tr>\n",
        "        <td>Outer Mission</td>\n",
        "        <td>Street and Sidewalk Cleaning</td>\n",
        "        <td>3</td>\n",
        "    </tr>\n",
        "    <tr>\n",
        "        <td>Outer Sunset</td>\n",
        "        <td>Street and Sidewalk Cleaning</td>\n",
        "        <td>3</td>\n",
        "    </tr>\n",
        "    <tr>\n",
        "        <td>Potrero Hill</td>\n",
        "        <td>Street and Sidewalk Cleaning</td>\n",
        "        <td>3</td>\n",
        "    </tr>\n",
        "    <tr>\n",
        "        <td>Bayview</td>\n",
        "        <td>Street and Sidewalk Cleaning</td>\n",
        "        <td>5</td>\n",
        "    </tr>\n",
        "    <tr>\n",
        "        <td>Castro/Upper Market</td>\n",
        "        <td>Street and Sidewalk Cleaning</td>\n",
        "        <td>5</td>\n",
        "    </tr>\n",
        "    <tr>\n",
        "        <td>Pacific Heights</td>\n",
        "        <td>Street and Sidewalk Cleaning</td>\n",
        "        <td>5</td>\n",
        "    </tr>\n",
        "    <tr>\n",
        "        <td>Excelsior</td>\n",
        "        <td>Street and Sidewalk Cleaning</td>\n",
        "        <td>8</td>\n",
        "    </tr>\n",
        "    <tr>\n",
        "        <td>Russian Hill</td>\n",
        "        <td>Street and Sidewalk Cleaning</td>\n",
        "        <td>8</td>\n",
        "    </tr>\n",
        "    <tr>\n",
        "        <td>Western Addition</td>\n",
        "        <td>Street and Sidewalk Cleaning</td>\n",
        "        <td>8</td>\n",
        "    </tr>\n",
        "    <tr>\n",
        "        <td>Downtown/Civic Center</td>\n",
        "        <td>Street and Sidewalk Cleaning</td>\n",
        "        <td>12</td>\n",
        "    </tr>\n",
        "    <tr>\n",
        "        <td>South of Market</td>\n",
        "        <td>Street and Sidewalk Cleaning</td>\n",
        "        <td>18</td>\n",
        "    </tr>\n",
        "    <tr>\n",
        "        <td>Mission</td>\n",
        "        <td>Street and Sidewalk Cleaning</td>\n",
        "        <td>20</td>\n",
        "    </tr>\n",
        "</table>"
       ],
       "metadata": {},
       "output_type": "pyout",
       "prompt_number": 286,
       "text": [
        "[(u'Crocker Amazon', u'Street and Sidewalk Cleaning', 1),\n",
        " (u'Inner Richmond', u'Street and Sidewalk Cleaning', 1),\n",
        " (u'Lakeshore', u'Street and Sidewalk Cleaning', 1),\n",
        " (u'Outer Richmond', u'Street and Sidewalk Cleaning', 1),\n",
        " (u'Treasure Island/YBI', u'Street and Sidewalk Cleaning', 1),\n",
        " (u'Twin Peaks', u'Street and Sidewalk Cleaning', 1),\n",
        " (u'Visitacion Valley', u'Street and Sidewalk Cleaning', 1),\n",
        " (u'Marina', u'Street and Sidewalk Cleaning', 2),\n",
        " (u'Nob Hill', u'Street and Sidewalk Cleaning', 2),\n",
        " (u'North Beach', u'Street and Sidewalk Cleaning', 2),\n",
        " (u'Chinatown', u'Street and Sidewalk Cleaning', 3),\n",
        " (u'Haight Ashbury', u'Street and Sidewalk Cleaning', 3),\n",
        " (u'Noe Valley', u'Street and Sidewalk Cleaning', 3),\n",
        " (u'Ocean View', u'Street and Sidewalk Cleaning', 3),\n",
        " (u'Outer Mission', u'Street and Sidewalk Cleaning', 3),\n",
        " (u'Outer Sunset', u'Street and Sidewalk Cleaning', 3),\n",
        " (u'Potrero Hill', u'Street and Sidewalk Cleaning', 3),\n",
        " (u'Bayview', u'Street and Sidewalk Cleaning', 5),\n",
        " (u'Castro/Upper Market', u'Street and Sidewalk Cleaning', 5),\n",
        " (u'Pacific Heights', u'Street and Sidewalk Cleaning', 5),\n",
        " (u'Excelsior', u'Street and Sidewalk Cleaning', 8),\n",
        " (u'Russian Hill', u'Street and Sidewalk Cleaning', 8),\n",
        " (u'Western Addition', u'Street and Sidewalk Cleaning', 8),\n",
        " (u'Downtown/Civic Center', u'Street and Sidewalk Cleaning', 12),\n",
        " (u'South of Market', u'Street and Sidewalk Cleaning', 18),\n",
        " (u'Mission', u'Street and Sidewalk Cleaning', 20)]"
       ]
      }
     ],
     "prompt_number": 286
    },
    {
     "cell_type": "markdown",
     "metadata": {},
     "source": [
      "####BONUS: Come up with your own query! Challenge your fellow classmates by posting your query on HipChat."
     ]
    },
    {
     "cell_type": "code",
     "collapsed": false,
     "input": [],
     "language": "python",
     "metadata": {},
     "outputs": [],
     "prompt_number": 286
    },
    {
     "cell_type": "code",
     "collapsed": false,
     "input": [],
     "language": "python",
     "metadata": {},
     "outputs": []
    }
   ],
   "metadata": {}
  }
 ]
}