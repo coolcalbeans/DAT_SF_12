{
 "metadata": {
  "name": "",
  "signature": "sha256:7a338435fb5285baf6d4a94c959cdd6794abf169a7b3da9974447b76b737bd29"
 },
 "nbformat": 3,
 "nbformat_minor": 0,
 "worksheets": [
  {
   "cells": [
    {
     "cell_type": "markdown",
     "metadata": {},
     "source": [
      "## Homework 2 (Due - Feb'17th) - practice Supervised (KNN) and Un-Supervised (Clustering):\n",
      "\n",
      "Follow the steps below to:\n",
      "    - Read `wine.csv` in the data folder.\n",
      "    - We are going to use this dataset to practice Supervised (KNN) and Un-Supervised (Clustering)\n",
      "    \n",
      "### Supervised (KNN)\n",
      "\n",
      "    - Split the data into Train and Test (30%) using random_state of 42 (so that we all get same results)\n",
      "    - Using KNN, can you predict the Wine class in test\n",
      "    - How Accurate is your prediction\n",
      "    \n",
      "### Un-Supervised (Clustering)\n",
      "    - The First Column contains the Wine Category.  Don't use it in the models below.  We are going to treat it as unsupervized learning and compare the results to the Wine column.\n",
      "    - Try `KMeans` where `n_clusters = 3` and compare the clusters to the `Wine` column.\n",
      "    - Try `Hierarchical Clustering` and plot dendogram\n",
      "    - Compare the results of `KMeans` with that of Wine Column.  Is Clustering identifying the Wine groups correctly? \n",
      "\n",
      "Note that the Wine group codes will not match between Clustering and Wine Category.  What we are looking for is does all the wines in the cluster fall into the same Wine Category)."
     ]
    },
    {
     "cell_type": "code",
     "collapsed": false,
     "input": [
      "### Supervised (KNN) - Homework First Problem\n",
      "\n",
      "%matplotlib inline\n",
      "from __future__ import division\n",
      "import pandas as pd\n",
      "import numpy as np\n",
      "from seaborn import plt\n",
      "from matplotlib.colors import ListedColormap\n",
      "from sklearn import neighbors, datasets, feature_selection\n",
      "from sklearn.cross_validation import train_test_split, cross_val_score\n",
      "from sklearn.preprocessing import scale\n",
      "\n",
      "#Reading Data from input file\n",
      "df_wine = pd.read_csv('../data/wine.csv')\n",
      "df_WineClass = pd.DataFrame(df_wine['Wine'])\n",
      "df_WineClass.columns = ['Wine Class']\n",
      "df_WineAttributes = df_wine.ix[:,1:]\n",
      "\n",
      "#Converting Types\n",
      "df_WineClass = df_WineClass.astype(float)\n",
      "df_WineAttributes = df_WineAttributes.astype(float)\n",
      "\n",
      "#Y or Dependent Variable Dataframe\n",
      "print df_WineClass.head()\n",
      "#X valuess or Independent Variable(s) Dataframe\n",
      "print df_WineAttributes.head()"
     ],
     "language": "python",
     "metadata": {},
     "outputs": [
      {
       "output_type": "stream",
       "stream": "stdout",
       "text": [
        "   Wine Class\n",
        "0           1\n",
        "1           1\n",
        "2           1\n",
        "3           1\n",
        "4           1\n",
        "   Alcohol  Malic.acid   Ash   Acl   Mg  Phenols  Flavanoids  \\\n",
        "0    14.23        1.71  2.43  15.6  127     2.80        3.06   \n",
        "1    13.20        1.78  2.14  11.2  100     2.65        2.76   \n",
        "2    13.16        2.36  2.67  18.6  101     2.80        3.24   \n",
        "3    14.37        1.95  2.50  16.8  113     3.85        3.49   \n",
        "4    13.24        2.59  2.87  21.0  118     2.80        2.69   \n",
        "\n",
        "   Nonflavanoid.phenols  Proanth  Color.int   Hue    OD  Proline  \n",
        "0                  0.28     2.29       5.64  1.04  3.92     1065  \n",
        "1                  0.26     1.28       4.38  1.05  3.40     1050  \n",
        "2                  0.30     2.81       5.68  1.03  3.17     1185  \n",
        "3                  0.24     2.18       7.80  0.86  3.45     1480  \n",
        "4                  0.39     1.82       4.32  1.04  2.93      735  \n"
       ]
      }
     ],
     "prompt_number": 181
    },
    {
     "cell_type": "code",
     "collapsed": false,
     "input": [
      "# Create the training (and test) set using scikit-learn's train_test_split function\n",
      "X_train, X_test, y_train, y_test = train_test_split(df_WineAttributes.values, df_WineClass['Wine Class'].values, test_size=0.30, random_state=42)\n"
     ],
     "language": "python",
     "metadata": {},
     "outputs": [],
     "prompt_number": 182
    },
    {
     "cell_type": "code",
     "collapsed": false,
     "input": [
      "# Various variables we'll need to set intially.\n",
      "n_neighbors = range(1, 51, 2)\n",
      "\n",
      "# Loop through each neighbors value from 1 to 51 and append\n",
      "# the scores\n",
      "\n",
      "scores = []\n",
      "for n in n_neighbors:\n",
      "    clf = neighbors.KNeighborsClassifier(n)\n",
      "    clf.fit(X_train, y_train)\n",
      "    scores.append(clf.score(X_test, y_test))"
     ],
     "language": "python",
     "metadata": {},
     "outputs": [],
     "prompt_number": 183
    },
    {
     "cell_type": "code",
     "collapsed": false,
     "input": [
      "plt.figure(figsize=(18,6))\n",
      "_ = plt.plot(n_neighbors, scores, linewidth=3.0)"
     ],
     "language": "python",
     "metadata": {},
     "outputs": [
      {
       "metadata": {},
       "output_type": "display_data",
       "png": "[encoded data removed]",
       "text": [
        "<matplotlib.figure.Figure at 0x10ae6f990>"
       ]
      }
     ],
     "prompt_number": 184
    },
    {
     "cell_type": "code",
     "collapsed": false,
     "input": [
      "from sklearn.cross_validation import cross_val_score\n",
      "clf = neighbors.KNeighborsClassifier(28, weights='uniform')\n",
      "scores = cross_val_score(clf, df_WineAttributes.values, df_WineClass['Wine Class'].values, cv=5)\n",
      "print scores"
     ],
     "language": "python",
     "metadata": {},
     "outputs": [
      {
       "output_type": "stream",
       "stream": "stdout",
       "text": [
        "[ 0.7027027   0.75        0.61111111  0.74285714  0.76470588]\n"
       ]
      }
     ],
     "prompt_number": 185
    },
    {
     "cell_type": "code",
     "collapsed": false,
     "input": [
      "print np.mean(scores)"
     ],
     "language": "python",
     "metadata": {},
     "outputs": [
      {
       "output_type": "stream",
       "stream": "stdout",
       "text": [
        "0.714275367805\n"
       ]
      }
     ],
     "prompt_number": 186
    },
    {
     "cell_type": "code",
     "collapsed": false,
     "input": [
      "#Using Neighbor = 29 since that seems to be the optimum value for n\n",
      "n = 29\n",
      "clf = neighbors.KNeighborsClassifier(n)\n",
      "clf.fit(X_train, y_train)\n",
      "print clf.predict(X_test)"
     ],
     "language": "python",
     "metadata": {},
     "outputs": [
      {
       "output_type": "stream",
       "stream": "stdout",
       "text": [
        "[ 1.  1.  3.  1.  2.  1.  2.  3.  3.  3.  1.  2.  1.  2.  1.  2.  2.  3.\n",
        "  1.  2.  1.  2.  3.  3.  2.  3.  2.  3.  2.  1.  1.  2.  3.  1.  1.  1.\n",
        "  3.  2.  3.  3.  1.  2.  2.  3.  2.  1.  3.  2.  3.  1.  2.  1.  1.  3.]\n"
       ]
      }
     ],
     "prompt_number": 196
    },
    {
     "cell_type": "code",
     "collapsed": false,
     "input": [
      "print y_test"
     ],
     "language": "python",
     "metadata": {},
     "outputs": [
      {
       "output_type": "stream",
       "stream": "stdout",
       "text": [
        "[ 1.  1.  3.  1.  2.  1.  2.  3.  2.  3.  1.  3.  1.  2.  1.  2.  2.  2.\n",
        "  1.  2.  1.  2.  2.  3.  3.  3.  2.  2.  2.  1.  1.  2.  3.  1.  1.  1.\n",
        "  3.  3.  2.  3.  1.  2.  2.  2.  3.  1.  2.  2.  3.  1.  2.  1.  1.  3.]\n"
       ]
      }
     ],
     "prompt_number": 197
    },
    {
     "cell_type": "code",
     "collapsed": false,
     "input": [
      "print round(clf.score(X_test, y_test)*100,2), \"% Accuracy in Classifier\""
     ],
     "language": "python",
     "metadata": {},
     "outputs": [
      {
       "output_type": "stream",
       "stream": "stdout",
       "text": [
        "79.63 % Accuracy in Classifier\n"
       ]
      }
     ],
     "prompt_number": 198
    },
    {
     "cell_type": "code",
     "collapsed": false,
     "input": [],
     "language": "python",
     "metadata": {},
     "outputs": [],
     "prompt_number": 143
    }
   ],
   "metadata": {}
  }
 ]
}